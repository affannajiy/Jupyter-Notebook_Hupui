{
 "cells": [
  {
   "cell_type": "code",
   "execution_count": 65,
   "id": "9b211160-be72-4a80-8e21-45464b2f5a4c",
   "metadata": {},
   "outputs": [
    {
     "name": "stdout",
     "output_type": "stream",
     "text": [
      "Path: [(0, 0), (1, 0), (2, 0), (2, 1), (2, 2), (2, 3), (2, 4), (3, 4), (4, 4)]\n"
     ]
    }
   ],
   "source": [
    "#AI_Lab3\n",
    "#1_BFS in Grid\n",
    "\n",
    "from collections import deque\n",
    "\n",
    "def bfs_grid(grid, start, goal): \n",
    "  rows, cols = len(grid), len(grid[0]) \n",
    "  visited = set() \n",
    "  queue = deque([(start, [start])]) \n",
    "  \n",
    "  while queue: \n",
    "    (x, y), path = queue.popleft() \n",
    "    if (x, y) == goal: \n",
    "      return path \n",
    "    \n",
    "    for dx, dy in [(-1,0),(1,0),(0,-1),(0,1)]: \n",
    "      nx, ny = x+dx, y+dy \n",
    "      if 0 <= nx < rows and 0 <= ny < cols and grid[nx][ny] == 0 and (nx, ny) not in visited:\n",
    "        visited.add((nx, ny)) \n",
    "        queue.append(((nx, ny), path + [(nx, ny)])) \n",
    "  return None\n",
    "\n",
    "grid = [\n",
    "    [0, 1, 0, 0, 1],\n",
    "    [0, 0, 1, 0, 0],\n",
    "    [0, 0, 0, 0, 0],\n",
    "    [0, 1, 1, 1, 0],\n",
    "    [1, 0, 1, 0, 0]\n",
    "] \n",
    "\n",
    "start = (0, 0) \n",
    "goal = (4, 4) \n",
    "\n",
    "path = bfs_grid(grid, start, goal) \n",
    "print(f\"Path: {path}\")"
   ]
  },
  {
   "cell_type": "code",
   "execution_count": 66,
   "id": "226781f6",
   "metadata": {},
   "outputs": [
    {
     "name": "stdout",
     "output_type": "stream",
     "text": [
      "Path: [(0, 0), (1, 0), (2, 0), (2, 1), (2, 2), (2, 3), (1, 3), (1, 4), (2, 4), (3, 4), (4, 4)]\n"
     ]
    }
   ],
   "source": [
    "#2_DFS in Maze\n",
    "\n",
    "def dfs_maze(grid, x, y, path, visited, goal): \n",
    "  if (x, y) == goal: \n",
    "    return path \n",
    "  visited.add((x, y)) \n",
    "  \n",
    "  for dx, dy in [(-1,0),(1,0),(0,-1),(0,1)]: \n",
    "    nx, ny = x+dx, y+dy \n",
    "    if 0 <= nx < len(grid) and 0 <= ny < len(grid[0]) and grid[nx][ny] == 0 and (nx, ny) not in visited: \n",
    "      result = dfs_maze(grid, nx, ny, path + [(nx, ny)], visited, goal) \n",
    "      if result: \n",
    "        return result \n",
    "  return None \n",
    "\n",
    "grid = [\n",
    "    [0, 1, 0, 0, 1],\n",
    "    [0, 0, 1, 0, 0],\n",
    "    [0, 0, 0, 0, 0],\n",
    "    [0, 1, 1, 1, 0],\n",
    "    [1, 0, 1, 0, 0]\n",
    "] \n",
    "\n",
    "start = (0, 0) \n",
    "goal = (4, 4) \n",
    "\n",
    "path = dfs_maze(grid, start[0], start[1], [start], set(), goal) \n",
    "print(f\"Path: {path}\")"
   ]
  },
  {
   "cell_type": "code",
   "execution_count": 67,
   "id": "a6ab6a5c",
   "metadata": {},
   "outputs": [
    {
     "name": "stdout",
     "output_type": "stream",
     "text": [
      "Path: ['A', 'B', 'D', 'G']\n",
      "Cost: 6\n"
     ]
    }
   ],
   "source": [
    "#3_UCS Weighted Graph\n",
    "\n",
    "import heapq \n",
    "\n",
    "def ucs(graph, start, goal): \n",
    "  pq = [(0, [start])] \n",
    "  visited = set() \n",
    "  \n",
    "  while pq: \n",
    "    cost, path = heapq.heappop(pq) #remove from the priority queue\n",
    "    node = path[-1] \n",
    "    \n",
    "    if node == goal: \n",
    "      return path, cost \n",
    "    \n",
    "    if node not in visited: \n",
    "      visited.add(node) \n",
    "    \n",
    "    for neighbor, weight in graph[node]: \n",
    "      heapq.heappush(pq, (cost + weight, path + [neighbor])) \n",
    "  return None\n",
    "\n",
    "graph = {\n",
    "    'A': [('B', 2), ('C', 5)],\n",
    "    'B': [('A', 2), ('D', 1)],\n",
    "    'C': [('A', 5), ('D', 2)],\n",
    "    'D': [('B', 1), ('C', 2), ('G', 3)],\n",
    "    'G': [] #G is goal\n",
    "} \n",
    "\n",
    "start = 'A' \n",
    "goal = 'G' \n",
    "\n",
    "path, cost = ucs(graph, start, goal) \n",
    "print(f\"Path: {path}\")\n",
    "print(f\"Cost: {cost}\")"
   ]
  },
  {
   "cell_type": "code",
   "execution_count": 68,
   "id": "dd3904c9",
   "metadata": {},
   "outputs": [
    {
     "name": "stdout",
     "output_type": "stream",
     "text": [
      "Tree Traversal: [1, 2, 3, 4, 5, 6, 7]\n"
     ]
    }
   ],
   "source": [
    "#4_BFS Tree Traversal\n",
    "\n",
    "def bfs_tree(root): \n",
    "  from collections import deque \n",
    "  if not root: \n",
    "    return [] \n",
    "  queue = deque([root]) \n",
    "  result = [] \n",
    "  \n",
    "  while queue: \n",
    "    node = queue.popleft() \n",
    "    result.append(node.val) \n",
    "    \n",
    "    if node.left: \n",
    "      queue.append(node.left) \n",
    "      \n",
    "    if node.right: \n",
    "      queue.append(node.right) \n",
    "  return result\n",
    "\n",
    "#Tree Creation\n",
    "class Node: \n",
    "  def __init__(self, val): \n",
    "    self.val = val \n",
    "    self.left = None \n",
    "    self.right = None \n",
    "\n",
    "root = Node(1) \n",
    "root.left = Node(2) \n",
    "root.right = Node(3) \n",
    "root.left.left = Node(4) \n",
    "root.left.right = Node(5) \n",
    "root.right.left = Node(6) \n",
    "root.right.right = Node(7)\n",
    "\n",
    "result = bfs_tree(root) \n",
    "print(f\"Tree Traversal: {result}\")"
   ]
  },
  {
   "cell_type": "code",
   "execution_count": 69,
   "id": "f76cb731",
   "metadata": {},
   "outputs": [
    {
     "name": "stdout",
     "output_type": "stream",
     "text": [
      "Tree Traversal: [1, 2, 4, 5, 3, 6, 7]\n"
     ]
    }
   ],
   "source": [
    "#5_DFS Tree Traversal\n",
    "\n",
    "def dfs_preorder(root): \n",
    "  if not root: \n",
    "    return [] \n",
    "  return [root.val] + dfs_preorder(root.left) + dfs_preorder(root.right)\n",
    "\n",
    "#Tree Creation\n",
    "class Node: \n",
    "  def __init__(self, val): \n",
    "    self.val = val \n",
    "    self.left = None \n",
    "    self.right = None \n",
    "\n",
    "root = Node(1) \n",
    "root.left = Node(2) \n",
    "root.right = Node(3) \n",
    "root.left.left = Node(4) \n",
    "root.left.right = Node(5) \n",
    "root.right.left = Node(6) \n",
    "root.right.right = Node(7)\n",
    "\n",
    "result = dfs_preorder(root) \n",
    "print(f\"Tree Traversal: {result}\")"
   ]
  },
  {
   "cell_type": "code",
   "execution_count": 70,
   "id": "73613977",
   "metadata": {},
   "outputs": [
    {
     "name": "stdout",
     "output_type": "stream",
     "text": [
      "Path: [(0, 0), (1, 0), (1, 1), (2, 1), (2, 2), (2, 3), (2, 4), (3, 4), (4, 4)]\n"
     ]
    }
   ],
   "source": [
    "#6_Greedy BFS in Grid\n",
    "\n",
    "import heapq\n",
    "\n",
    "def heuristic(a, b): \n",
    "  return abs(a[0] - b[0]) + abs(a[1] - b[1]) \n",
    "\n",
    "def greedy_bfs(grid, start, goal): \n",
    "  rows, cols = len(grid), len(grid[0]) \n",
    "  visited = set() \n",
    "  pq = [(heuristic(start, goal), [start])] \n",
    "  while pq: \n",
    "    _, path = heapq.heappop(pq) \n",
    "    x, y = path[-1]\n",
    "    \n",
    "    if (x, y) == goal: \n",
    "      return path \n",
    "\n",
    "    if (x, y) not in visited: \n",
    "      visited.add((x, y)) \n",
    "    \n",
    "    for dx, dy in [(-1,0),(1,0),(0,-1),(0,1)]: \n",
    "      nx, ny = x+dx, y+dy \n",
    "      if 0 <= nx < rows and 0 <= ny < cols and grid[nx][ny] == 0: \n",
    "        heapq.heappush(pq, (heuristic((nx, ny), goal), path + [(nx, ny)])) \n",
    "  return None\n",
    "\n",
    "grid = [\n",
    "    [0, 1, 0, 0, 1],\n",
    "    [0, 0, 1, 0, 0],\n",
    "    [0, 0, 0, 0, 0],\n",
    "    [0, 1, 1, 1, 0],\n",
    "    [1, 0, 1, 0, 0]\n",
    "] \n",
    "\n",
    "start = (0, 0) \n",
    "goal = (4, 4) \n",
    "\n",
    "path = greedy_bfs(grid, start, goal) \n",
    "print(f\"Path: {path}\")"
   ]
  },
  {
   "cell_type": "code",
   "execution_count": null,
   "id": "6244724d",
   "metadata": {},
   "outputs": [
    {
     "name": "stdout",
     "output_type": "stream",
     "text": [
      "Path: [(0, 0), (1, 0), (1, 1), (2, 1), (2, 2), (2, 3), (2, 4), (3, 4), (4, 4)]\n",
      "Cost: 0\n"
     ]
    }
   ],
   "source": [
    "#7_A* Search in Grid\n",
    "\n",
    "def astar_grid(grid, start, goal): \n",
    "  import heapq \n",
    "  def heuristic(a, b): \n",
    "    return abs(a[0] - b[0]) + abs(a[1] - b[1]) \n",
    "  \n",
    "  rows, cols = len(grid), len(grid[0]) \n",
    "  pq = [(heuristic(start, goal), 0, [start])] \n",
    "  visited = set() \n",
    "  while pq: \n",
    "    est, g, path = heapq.heappop(pq) \n",
    "    x, y = path[-1]\n",
    "  \n",
    "    if (x, y) == goal: \n",
    "      return path, g \n",
    "  \n",
    "    if (x, y) not in visited: \n",
    "      visited.add((x, y)) \n",
    "  \n",
    "    for dx, dy in [(-1,0),(1,0),(0,-1),(0,1)]: \n",
    "      nx, ny = x+dx, y+dy \n",
    "      if 0 <= nx < rows and 0 <= ny < cols: \n",
    "        new_g = g + grid[nx][ny] \n",
    "        heapq.heappush(pq, (new_g + heuristic((nx, ny), goal), new_g, path + [(nx, ny)])) \n",
    "  return None\n",
    "\n",
    "grid = [\n",
    "    [0, 1, 0, 0, 1],\n",
    "    [0, 0, 1, 0, 0],\n",
    "    [0, 0, 0, 0, 0],\n",
    "    [0, 1, 1, 1, 0],\n",
    "    [1, 0, 1, 0, 0]\n",
    "] \n",
    "\n",
    "start = (0, 0) \n",
    "goal = (4, 4) \n",
    "\n",
    "path, cost = astar_grid(grid, start, goal) \n",
    "print(f\"Path: {path}\")\n",
    "print(f\"Cost: {cost}\")"
   ]
  }
 ],
 "metadata": {
  "kernelspec": {
   "display_name": "base",
   "language": "python",
   "name": "python3"
  },
  "language_info": {
   "codemirror_mode": {
    "name": "ipython",
    "version": 3
   },
   "file_extension": ".py",
   "mimetype": "text/x-python",
   "name": "python",
   "nbconvert_exporter": "python",
   "pygments_lexer": "ipython3",
   "version": "3.12.7"
  }
 },
 "nbformat": 4,
 "nbformat_minor": 5
}
