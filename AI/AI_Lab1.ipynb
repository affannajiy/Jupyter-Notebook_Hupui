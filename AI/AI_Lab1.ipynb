{
 "cells": [
  {
   "cell_type": "code",
   "execution_count": 117,
   "id": "219ec73d",
   "metadata": {},
   "outputs": [
    {
     "name": "stdout",
     "output_type": "stream",
     "text": [
      "Path: ['A', 'B', 'D', 'G']\n"
     ]
    }
   ],
   "source": [
    "#AI_Lab1\n",
    "#BFS 1 (Graph Path Search)\n",
    "\n",
    "from collections import deque\n",
    "'''\n",
    "collection is a module for containers\n",
    "deque is a double ended queue\n",
    "Link: https://docs.python.org/3/library/collections.html\n",
    "'''\n",
    "\n",
    "graph = {\n",
    "  'A': ['B', 'C'],\n",
    "  'B': ['D', 'E'],\n",
    "  'C': ['F'],\n",
    "  'D': ['G'],\n",
    "  'E': ['G'],\n",
    "  'F': ['G'],\n",
    "  'G': [] #G is goal\n",
    "}\n",
    "\n",
    "def bfs(graph, start, goal):\n",
    "  queue = deque([[start]])\n",
    "  while queue:\n",
    "    path = queue.popleft() #popleft() removes the first element\n",
    "    node = path[-1]\n",
    "    if node == goal:\n",
    "      return path\n",
    "    for adjacent in graph.get(node, []): #import graph\n",
    "      new_path = list(path)\n",
    "      new_path.append(adjacent)\n",
    "      queue.append(new_path)\n",
    "  return None\n",
    "\n",
    "path = bfs(graph, 'A', 'G')\n",
    "print(f\"Path: {path}\")"
   ]
  },
  {
   "cell_type": "code",
   "execution_count": 118,
   "id": "0550a5b5",
   "metadata": {},
   "outputs": [
    {
     "name": "stdout",
     "output_type": "stream",
     "text": [
      "Path: [(0, 0), (0, 1), (0, 2), (1, 2), (2, 2), (2, 3), (2, 4), (1, 4), (0, 4)]\n"
     ]
    }
   ],
   "source": [
    "#BFS 2 (Maze Path Search)\n",
    "from collections import deque\n",
    "'''\n",
    "collection is a module for containers\n",
    "deque is a double ended queue\n",
    "Link: https://docs.python.org/3/library/collections.html\n",
    "'''\n",
    "\n",
    "maze = [\n",
    "    ['S', '.', '.', '#', 'G'],\n",
    "    ['#', '#', '.', '#', '.'],\n",
    "    ['.', '.', '.', '.', '.'],\n",
    "    ['.', '#', '#', '#', '.'],\n",
    "    ['.', '.', '.', '.', '.']\n",
    "]\n",
    "\n",
    "#Breadth First Search\n",
    "def bfs(maze):\n",
    "    start, goal = None, None\n",
    "    for i in range(len(maze)):\n",
    "      for j in range(len(maze[0])):\n",
    "        if maze[i][j] == 'S':\n",
    "          start = (i, j)\n",
    "        if maze[i][j] == 'G':\n",
    "          goal = (i, j)\n",
    "  \n",
    "    queue = deque([[start]])\n",
    "    visited = set()\n",
    "\n",
    "    def valid(x, y): #for valid path\n",
    "      for dx, dy in [(-1, 0), (1, 0), (0, -1), (0, 1)]:\n",
    "        nx, ny = x + dx, y + dy\n",
    "        if 0 <= x + dx < len(maze) and 0 <= y + dy < len(maze[0]) and maze[x + dx][y + dy] != '#':\n",
    "          yield (nx, ny)\n",
    "  \n",
    "    while queue:\n",
    "      path = queue.popleft()\n",
    "      x, y = path[-1]\n",
    "      if (x, y) == goal:\n",
    "        return path\n",
    "      if (x, y) not in visited:\n",
    "          visited.add((x, y))  \n",
    "          for neighbour in valid(x, y):\n",
    "            queue.append(path + [neighbour])\n",
    "    return None\n",
    "\n",
    "path = bfs(maze)\n",
    "print(f\"Path: {path}\")"
   ]
  },
  {
   "cell_type": "code",
   "execution_count": 119,
   "id": "f7dff7bc",
   "metadata": {},
   "outputs": [
    {
     "name": "stdout",
     "output_type": "stream",
     "text": [
      "Path: ['hit', 'hot', 'lot', 'log', 'cog']\n"
     ]
    }
   ],
   "source": [
    "#BFS 3 (Word Transformation Path)\n",
    "\n",
    "from collections import deque\n",
    "'''\n",
    "collection is a module for containers\n",
    "deque is a double ended queue\n",
    "Link: https://docs.python.org/3/library/collections.html\n",
    "'''\n",
    "\n",
    "word_list = [\"hit\", \"hot\", \"dot\", \"dog\", \"lot\", \"log\", \"cog\"]\n",
    "\n",
    "def is_neighbour(word1, word2):\n",
    "  return sum(a != b for a, b in zip(word1, word2)) == 1\n",
    "\n",
    "def bfs(word_list, start, goal):\n",
    "  word_set = set(word_list)\n",
    "  queue = deque([[start]])\n",
    "  visited = set([start])\n",
    "\n",
    "  while queue:\n",
    "    path = queue.popleft()\n",
    "    current_word = path[-1]\n",
    "    \n",
    "    if current_word == goal:\n",
    "      return path\n",
    "    for word in word_set:\n",
    "      if word not in visited and is_neighbour(current_word, word):\n",
    "        visited.add(word)\n",
    "        queue.append(path + [word])\n",
    "  return None\n",
    "\n",
    "path = bfs(word_list, 'hit', 'cog')\n",
    "print(f\"Path: {path}\")"
   ]
  },
  {
   "cell_type": "code",
   "execution_count": 120,
   "id": "0dd15f0f",
   "metadata": {},
   "outputs": [
    {
     "name": "stdout",
     "output_type": "stream",
     "text": [
      "Level Order Traversal: [1, 2, 3, 4, 5, 6, 7]\n"
     ]
    }
   ],
   "source": [
    "#BFS 4 (Binary Tree Level Order Traversal)\n",
    "\n",
    "from collections import deque\n",
    "\n",
    "class Node:\n",
    "  def __init__(self, val):\n",
    "    self.val = val\n",
    "    self.left = None\n",
    "    self.right = None\n",
    "\n",
    "def bfs(root):\n",
    "  if not root:\n",
    "    return []\n",
    "  \n",
    "  result, queue = [], deque([root])\n",
    "\n",
    "  while queue:\n",
    "    node = queue.popleft()\n",
    "    result.append(node.val)\n",
    "    if node.left:\n",
    "      queue.append(node.left)\n",
    "    if node.right:\n",
    "      queue.append(node.right)\n",
    "  return result\n",
    "\n",
    "root = Node(1)\n",
    "root.left = Node(2)\n",
    "root.right = Node(3)\n",
    "root.left.left = Node(4)\n",
    "root.left.right = Node(5)\n",
    "root.right.left = Node(6)\n",
    "root.right.right = Node(7)\n",
    "\n",
    "print(f\"Level Order Traversal: {bfs(root)}\")"
   ]
  },
  {
   "cell_type": "code",
   "execution_count": 121,
   "id": "2de37aa7",
   "metadata": {},
   "outputs": [
    {
     "name": "stdout",
     "output_type": "stream",
     "text": [
      "Path: ['A', 'B', 'D', 'G']\n"
     ]
    }
   ],
   "source": [
    "#DFS 1 (Graph Path Search)\n",
    "\n",
    "graph = {\n",
    "    'A': ['B', 'C'],\n",
    "    'B': ['D', 'E'],\n",
    "    'C': ['F'],\n",
    "    'D': ['G'],\n",
    "    'E': ['G'],\n",
    "    'F': ['G'],\n",
    "    'G': []\n",
    "}\n",
    "\n",
    "def dfs(graph, start, goal, path = None, visited = None):\n",
    "  if path is None:\n",
    "    path = [start]\n",
    "  if visited is None:\n",
    "    visited = set()\n",
    "  visited.add(start)\n",
    "  \n",
    "  if start == goal:\n",
    "    return path\n",
    "  \n",
    "  for neighbour in graph[start]:\n",
    "    if neighbour not in visited:\n",
    "      new_path = dfs(graph, neighbour, goal, path + [neighbour], visited)\n",
    "      if new_path:\n",
    "        return new_path\n",
    "  return None\n",
    "\n",
    "path = dfs(graph, 'A', 'G')\n",
    "print(f\"Path: {path}\")"
   ]
  },
  {
   "cell_type": "code",
   "execution_count": 122,
   "id": "040b1ec0",
   "metadata": {},
   "outputs": [
    {
     "name": "stdout",
     "output_type": "stream",
     "text": [
      "Path: [(0, 0), (0, 1), (0, 2), (1, 2), (2, 2), (2, 1), (2, 0), (3, 0), (4, 0), (4, 1), (4, 2), (4, 3), (4, 4), (3, 4), (2, 4), (1, 4), (0, 4)]\n"
     ]
    }
   ],
   "source": [
    "#DFS 2 (Graph Path Search)\n",
    "\n",
    "maze = [\n",
    "    ['S', '.', '.', '#', 'G'],\n",
    "    ['#', '#', '.', '#', '.'],\n",
    "    ['.', '.', '.', '.', '.'],\n",
    "    ['.', '#', '#', '#', '.'],\n",
    "    ['.', '.', '.', '.', '.']\n",
    "]\n",
    "\n",
    "def dfs(maze, x, y, path, visited):\n",
    "  if maze[x][y] == 'G':\n",
    "    return path\n",
    "  visited.add((x, y))\n",
    "  \n",
    "  for dx, dy in [(-1, 0), (1, 0), (0, -1), (0, 1)]:\n",
    "    nx, ny = x + dx, y + dy\n",
    "    if 0 <= nx < len(maze) and 0 <= ny < len(maze[0]) and maze[nx][ny] != '#' and (nx, ny) not in visited:\n",
    "      new_path = dfs(maze, nx, ny, path + [(nx, ny)], visited)\n",
    "      if new_path:\n",
    "        return new_path\n",
    "  return None\n",
    "\n",
    "start = (0, 0)\n",
    "visited = set()\n",
    "path = dfs(maze, start[0], start[1], [start], visited)\n",
    "print(f\"Path: {path}\")"
   ]
  },
  {
   "cell_type": "code",
   "execution_count": 123,
   "id": "f872b91b",
   "metadata": {},
   "outputs": [
    {
     "name": "stdout",
     "output_type": "stream",
     "text": [
      "Path: ['hit', 'hot', 'dot', 'dog', 'log', 'cog']\n"
     ]
    }
   ],
   "source": [
    "#DFS 3 (Preorder Tree Traversal)\n",
    "word_list = [\"hit\", \"hot\", \"dot\", \"dog\", \"lot\", \"log\", \"cog\"]\n",
    "\n",
    "def dfs(current, target, word_list, path, visited):\n",
    "  if current == target:\n",
    "    return path\n",
    "  visited.add(current)\n",
    "  \n",
    "  for word in word_list:\n",
    "    if word not in visited and sum(a != b for a, b in zip(current, word)) == 1:\n",
    "      new_path = dfs(word, target, word_list, path + [word], visited)\n",
    "      if new_path:\n",
    "        return new_path\n",
    "  return None\n",
    "\n",
    "path = dfs('hit', 'cog', word_list, ['hit'], set())\n",
    "print(f\"Path: {path}\")"
   ]
  },
  {
   "cell_type": "code",
   "execution_count": 124,
   "id": "0b2ee36c",
   "metadata": {},
   "outputs": [
    {
     "name": "stdout",
     "output_type": "stream",
     "text": [
      "Preorder Traversal: [1, 2, 4, 5, 3, 6, 7]\n"
     ]
    }
   ],
   "source": [
    "#DFS 4 (Preorder Tree Traversal)\n",
    "\n",
    "class Node:\n",
    "  def __init__(self, val):\n",
    "    self.val = val\n",
    "    self.left = None\n",
    "    self.right = None\n",
    "\n",
    "def dfs(node):\n",
    "  if not node:\n",
    "    return []\n",
    "  return [node.val] + dfs(node.left) + dfs(node.right)\n",
    "\n",
    "root = Node(1)\n",
    "root.left = Node(2)\n",
    "root.right = Node(3)\n",
    "root.left.left = Node(4)\n",
    "root.left.right = Node(5)\n",
    "root.right.left = Node(6)\n",
    "root.right.right = Node(7)\n",
    "\n",
    "print(f\"Preorder Traversal: {dfs(root)}\")"
   ]
  },
  {
   "cell_type": "code",
   "execution_count": 125,
   "id": "e60096ec-7d7d-44fc-a8b9-f04437ae49a6",
   "metadata": {},
   "outputs": [
    {
     "name": "stdout",
     "output_type": "stream",
     "text": [
      "Path: ['A', 'B', 'E', 'G']\n",
      "Cost: 4\n"
     ]
    }
   ],
   "source": [
    "#UCS 1 (Path Cost Search)\n",
    "\n",
    "import heapq\n",
    "'''\n",
    "hepq is a module for heap queue\n",
    "heap queue is a priority queue\n",
    "Link: https://docs.python.org/3/library/heapq.html\n",
    "'''\n",
    "\n",
    "graph = { #Node, Cost\n",
    "  'A': [('B', 1), ('C', 4)],\n",
    "  'B': [('D', 3), ('E', 2)],\n",
    "  'C': [('F', 5)],\n",
    "  'D': [('G', 4)],\n",
    "  'E': [('G', 1)],\n",
    "  'F': [('G', 2)],\n",
    "  'G': [] #G is goal\n",
    "}\n",
    "\n",
    "def ucs(graph, start, goal):\n",
    "  heap = [(0, [start])] #heap is a priority queue\n",
    "  visited = set()\n",
    "\n",
    "  while heap:\n",
    "    (cost, path) = heapq.heappop(heap)\n",
    "    node = path[-1]\n",
    "    \n",
    "    if node not in visited: #not in is used to check if the node is in the visited set\n",
    "      visited.add(node) #adds the node to the visited set\n",
    "      if node == goal:\n",
    "        return path, cost #returns the path and cost\n",
    "      for adjacent, weight in graph.get(node, []):\n",
    "        new_path = list(path)\n",
    "        new_path.append(adjacent)\n",
    "        heapq.heappush(heap, (cost + weight, path + [adjacent])) \n",
    "  return None\n",
    "\n",
    "path, cost = ucs(graph, 'A', 'G')\n",
    "print(f\"Path: {path}\")\n",
    "print(f\"Cost: {cost}\") #parking lot method"
   ]
  },
  {
   "cell_type": "code",
   "execution_count": 126,
   "id": "67172453",
   "metadata": {},
   "outputs": [
    {
     "name": "stdout",
     "output_type": "stream",
     "text": [
      "Path: [(0, 0), (0, 1), (0, 2), (1, 2), (2, 2), (2, 3), (2, 4), (3, 4), (4, 4)]\n",
      "Cost: 8\n"
     ]
    }
   ],
   "source": [
    "#UCS 2 (Grid with Costs)\n",
    "\n",
    "import heapq\n",
    "\n",
    "grid = [\n",
    "  [1, 1, 1, 99, 1],\n",
    "  [99, 99, 1, 99, 1],\n",
    "  [1, 1, 1, 1, 1],\n",
    "  [1, 99, 99, 99, 1],\n",
    "  [1, 1, 1, 1, 1]\n",
    "]  # 1 = safe, 99 = trap\n",
    "\n",
    "def ucs(grid, start, goal):\n",
    "  rows = len(grid)\n",
    "  cols = len(grid[0]) if rows > 0 else 0\n",
    "  directions = [(-1, 0), (1, 0), (0, -1), (0, 1)]  # up, down, left, right\n",
    "    \n",
    "  #Priority queue: (total_cost, path)\n",
    "  #Path is list of coordinates [(x1,y1), (x2,y2), ...]\n",
    "  heap = [(0, [start])]\n",
    "  visited = set()\n",
    "    \n",
    "  while heap:\n",
    "    total_cost, path = heapq.heappop(heap)\n",
    "    current = path[-1]  #Get last position in path\n",
    "        \n",
    "    if current == goal:\n",
    "      return path, total_cost\n",
    "        \n",
    "    if current in visited:\n",
    "      continue\n",
    "            \n",
    "    visited.add(current)\n",
    "        \n",
    "    for dx, dy in directions:\n",
    "      x, y = current\n",
    "      new_x, new_y = x + dx, y + dy \n",
    "            \n",
    "       #Check boundaries and avoid traps\n",
    "      if 0 <= new_x < rows and 0 <= new_y < cols and grid[new_x][new_y] != 99:\n",
    "        new_pos = (new_x, new_y)\n",
    "        if new_pos not in path:  #Prevent cycles\n",
    "          new_path = path + [new_pos]\n",
    "          new_cost = total_cost + grid[new_x][new_y]\n",
    "          heapq.heappush(heap, (new_cost, new_path))\n",
    "  return None\n",
    "\n",
    "start = (0, 0)\n",
    "goal = (4, 4)\n",
    "\n",
    "path, cost = ucs(grid, start, goal)\n",
    "print(f\"Path: {path}\")\n",
    "print(f\"Cost: {cost}\")"
   ]
  },
  {
   "cell_type": "code",
   "execution_count": 127,
   "id": "0048fcbc",
   "metadata": {},
   "outputs": [
    {
     "name": "stdout",
     "output_type": "stream",
     "text": [
      "Path: ['A', 'B', 'D', 'G']\n",
      "Cost: 6\n"
     ]
    }
   ],
   "source": [
    "#UCS 3 (Graph with Loops)\n",
    "\n",
    "import heapq\n",
    "\n",
    "graph = {\n",
    "  'A': [('B', 2), ('C', 5)],\n",
    "  'B': [('A', 2), ('D', 1)],\n",
    "  'C': [('A', 5), ('D', 2)],\n",
    "  'D': [('B', 1), ('C', 2), ('G', 3)],\n",
    "  'G': [] #G is goal\n",
    "}\n",
    "\n",
    "def ucs(graph, start, goal):\n",
    "  heap = [(0, [start])] #heap is a priority queue\n",
    "  visited = set()\n",
    "\n",
    "  while heap:\n",
    "    (cost, path) = heapq.heappop(heap)\n",
    "    node = path[-1]\n",
    "    \n",
    "    if node not in visited: #not in is used to check if the node is in the visited set\n",
    "      visited.add(node) #adds the node to the visited set\n",
    "      if node == goal:\n",
    "        return path, cost #returns the path and cost\n",
    "      for adjacent, weight in graph.get(node, []):\n",
    "        new_path = list(path)\n",
    "        new_path.append(adjacent)\n",
    "        heapq.heappush(heap, (cost + weight, path + [adjacent])) \n",
    "  return None\n",
    "\n",
    "path, cost = ucs(graph, 'A', 'G')\n",
    "print(f\"Path: {path}\")\n",
    "print(f\"Cost: {cost}\")"
   ]
  }
 ],
 "metadata": {
  "kernelspec": {
   "display_name": "base",
   "language": "python",
   "name": "python3"
  },
  "language_info": {
   "codemirror_mode": {
    "name": "ipython",
    "version": 3
   },
   "file_extension": ".py",
   "mimetype": "text/x-python",
   "name": "python",
   "nbconvert_exporter": "python",
   "pygments_lexer": "ipython3",
   "version": "3.12.7"
  }
 },
 "nbformat": 4,
 "nbformat_minor": 5
}
